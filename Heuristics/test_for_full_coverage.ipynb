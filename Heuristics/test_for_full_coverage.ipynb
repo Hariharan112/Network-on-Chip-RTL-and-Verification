{
 "cells": [
  {
   "cell_type": "code",
   "execution_count": 3,
   "metadata": {},
   "outputs": [
    {
     "name": "stdout",
     "output_type": "stream",
     "text": [
      "Heuristic paths coverage: 85.00%\n",
      "Matched paths: 204 out of 240 valid paths.\n"
     ]
    }
   ],
   "source": [
    "import time\n",
    "import random\n",
    "def test(n, m):\n",
    "    connections = []\n",
    "    \n",
    "    # Precompute all 4-bit binary addresses for rows and columns\n",
    "    row_addresses = [f'{i:04b}' for i in range(n)]\n",
    "    col_addresses = [f'{j:04b}' for j in range(m)]\n",
    "    \n",
    "    # Generate all possible connections\n",
    "    for row_source in range(n):\n",
    "        for col_source in range(m):\n",
    "            source_address = row_addresses[row_source] + col_addresses[col_source]\n",
    "            \n",
    "            for row_dest in range(n):\n",
    "                for col_dest in range(m):\n",
    "                    # Skip self-connection\n",
    "                    if row_source == row_dest and col_source == col_dest:\n",
    "                        continue\n",
    "                    \n",
    "                    destination_address = row_addresses[row_dest] + col_addresses[col_dest]\n",
    "                    \n",
    "                    # Combine source and destination into a single 16-bit binary string\n",
    "                    connections.append(source_address + destination_address)\n",
    "    \n",
    "    return connections\n",
    "\n",
    "def calculate_coverage(valid_paths, heuristic_paths):\n",
    "    # Convert to sets for faster comparison\n",
    "    valid_paths_set = set(valid_paths)\n",
    "    heuristic_paths_set = set(heuristic_paths)\n",
    "    \n",
    "    # Calculate intersection of heuristic paths with valid paths\n",
    "    matched_paths = heuristic_paths_set.intersection(valid_paths_set)\n",
    "    \n",
    "    # Calculate percentage coverage\n",
    "    coverage = (len(matched_paths) / len(valid_paths)) * 100\n",
    "    return coverage, len(matched_paths), len(valid_paths)\n",
    "\n",
    "def load_heuristic_paths(file_path):\n",
    "    with open(file_path, 'r') as file:\n",
    "        heuristic_paths = file.read().splitlines()\n",
    "    return heuristic_paths\n",
    "\n",
    "# Example usage:\n",
    "n = 4  # number of rows\n",
    "m = 4  # number of columns\n",
    "# start_T = time.time()\n",
    "connections = test(n, m)\n",
    "\n",
    "heuristic_paths = load_heuristic_paths(f'traffic{n}x{m}.txt')\n",
    "coverage, matched, total = calculate_coverage(connections, heuristic_paths)\n",
    "\n",
    "# Print the results\n",
    "print(f\"Heuristic paths coverage: {coverage:.2f}%\")\n",
    "print(f\"Matched paths: {matched} out of {total} valid paths.\")\n"
   ]
  }
 ],
 "metadata": {
  "kernelspec": {
   "display_name": "ML_stuff",
   "language": "python",
   "name": "python3"
  },
  "language_info": {
   "codemirror_mode": {
    "name": "ipython",
    "version": 3
   },
   "file_extension": ".py",
   "mimetype": "text/x-python",
   "name": "python",
   "nbconvert_exporter": "python",
   "pygments_lexer": "ipython3",
   "version": "3.10.14"
  }
 },
 "nbformat": 4,
 "nbformat_minor": 2
}
